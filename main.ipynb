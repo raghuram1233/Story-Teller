{
 "cells": [
  {
   "cell_type": "code",
   "execution_count": 58,
   "metadata": {},
   "outputs": [],
   "source": [
    "import torch\n",
    "import torch.nn as nn\n",
    "from transformers import AutoTokenizer,GPT2TokenizerFast\n",
    "import os\n",
    "import re"
   ]
  },
  {
   "cell_type": "code",
   "execution_count": 59,
   "metadata": {},
   "outputs": [],
   "source": [
    "with open(\"TinyStories-valid.txt\", \"r\",encoding=\"utf8\") as f:\n",
    "\t\tdata = f.read()\n",
    "\n",
    "data = data.replace(\"\\n\",'')\n",
    "data = data.lower()\n",
    "data = data.split(\"<|endoftext|>\")\n"
   ]
  },
  {
   "cell_type": "code",
   "execution_count": 62,
   "metadata": {},
   "outputs": [],
   "source": [
    "tokenizer = GPT2TokenizerFast.from_pretrained(\"Xenova/gpt-4\")\n",
    "new_tokens = [\"<|Start|>\", \"<|End|>\"]\n",
    "\n",
    "new_tokens = set(new_tokens) - set(tokenizer.vocab.keys())\n",
    "tokenizer.add_tokens(list(new_tokens))\n",
    "tokens = []\n",
    "\n",
    "for i in range(len(data)):\n",
    "\t\tdata[i] = re.sub(r'[^A-Za-z0-9 ]+', '', data[i])\n",
    "\t\ttokens.append(tokenizer(\"<|Start|> \" + data[i] + \" <|End|>\").input_ids)"
   ]
  },
  {
   "cell_type": "code",
   "execution_count": 63,
   "metadata": {},
   "outputs": [
    {
     "data": {
      "text/plain": [
       "'<|Start|> spot saw the shiny car and said wow kitty your car is so bright and clean kitty smiled and replied thank you spot i polish it every dayafter playing with the car kitty and spot felt thirsty they found a small pond with clear water they drank the water and felt very happy they played together all day and became best friends <|End|>'"
      ]
     },
     "execution_count": 63,
     "metadata": {},
     "output_type": "execute_result"
    }
   ],
   "source": [
    "tokenizer.decode(tokens[0])"
   ]
  }
 ],
 "metadata": {
  "kernelspec": {
   "display_name": "Python 3",
   "language": "python",
   "name": "python3"
  },
  "language_info": {
   "codemirror_mode": {
    "name": "ipython",
    "version": 3
   },
   "file_extension": ".py",
   "mimetype": "text/x-python",
   "name": "python",
   "nbconvert_exporter": "python",
   "pygments_lexer": "ipython3",
   "version": "3.9.13"
  }
 },
 "nbformat": 4,
 "nbformat_minor": 2
}
